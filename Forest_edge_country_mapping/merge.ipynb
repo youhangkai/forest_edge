{
 "cells": [
  {
   "cell_type": "code",
   "execution_count": 3,
   "id": "6b446701",
   "metadata": {},
   "outputs": [
    {
     "ename": "MemoryError",
     "evalue": "Unable to allocate 751. GiB for an array with shape (1, 560000, 1440000) and data type int8",
     "output_type": "error",
     "traceback": [
      "\u001b[1;31m---------------------------------------------------------------------------\u001b[0m",
      "\u001b[1;31mMemoryError\u001b[0m                               Traceback (most recent call last)",
      "Cell \u001b[1;32mIn[3], line 15\u001b[0m\n\u001b[0;32m     11\u001b[0m all_files \u001b[38;5;241m=\u001b[39m [os\u001b[38;5;241m.\u001b[39mpath\u001b[38;5;241m.\u001b[39mjoin(output_dir, f) \u001b[38;5;28;01mfor\u001b[39;00m f \u001b[38;5;129;01min\u001b[39;00m os\u001b[38;5;241m.\u001b[39mlistdir(output_dir) \u001b[38;5;28;01mif\u001b[39;00m f\u001b[38;5;241m.\u001b[39mendswith(\u001b[38;5;124m'\u001b[39m\u001b[38;5;124m.tif\u001b[39m\u001b[38;5;124m'\u001b[39m)]\n\u001b[0;32m     13\u001b[0m \u001b[38;5;66;03m# 直接使用merge工具合并所有图像\u001b[39;00m\n\u001b[0;32m     14\u001b[0m \u001b[38;5;66;03m# 注意：这里不再先读取所有数据，而是直接提供文件路径给merge函数\u001b[39;00m\n\u001b[1;32m---> 15\u001b[0m mosaic, out_trans \u001b[38;5;241m=\u001b[39m \u001b[43mmerge\u001b[49m\u001b[43m(\u001b[49m\u001b[43mall_files\u001b[49m\u001b[43m,\u001b[49m\u001b[43m \u001b[49m\u001b[43mindexes\u001b[49m\u001b[38;5;241;43m=\u001b[39;49m\u001b[38;5;241;43m1\u001b[39;49m\u001b[43m,\u001b[49m\u001b[43m \u001b[49m\u001b[43mdtype\u001b[49m\u001b[38;5;241;43m=\u001b[39;49m\u001b[38;5;124;43m'\u001b[39;49m\u001b[38;5;124;43mint8\u001b[39;49m\u001b[38;5;124;43m'\u001b[39;49m\u001b[43m)\u001b[49m\n\u001b[0;32m     17\u001b[0m \u001b[38;5;66;03m# 更新metadata\u001b[39;00m\n\u001b[0;32m     18\u001b[0m \u001b[38;5;28;01mwith\u001b[39;00m rasterio\u001b[38;5;241m.\u001b[39mopen(all_files[\u001b[38;5;241m0\u001b[39m]) \u001b[38;5;28;01mas\u001b[39;00m src0:\n",
      "File \u001b[1;32m~\\AppData\\Local\\miniconda3\\envs\\py38\\lib\\site-packages\\rasterio\\merge.py:293\u001b[0m, in \u001b[0;36mmerge\u001b[1;34m(datasets, bounds, res, nodata, dtype, precision, indexes, output_count, resampling, method, target_aligned_pixels, dst_path, dst_kwds)\u001b[0m\n\u001b[0;32m    290\u001b[0m     out_profile[\u001b[38;5;124m\"\u001b[39m\u001b[38;5;124mnodata\u001b[39m\u001b[38;5;124m\"\u001b[39m] \u001b[38;5;241m=\u001b[39m nodata\n\u001b[0;32m    292\u001b[0m \u001b[38;5;66;03m# create destination array\u001b[39;00m\n\u001b[1;32m--> 293\u001b[0m dest \u001b[38;5;241m=\u001b[39m \u001b[43mnp\u001b[49m\u001b[38;5;241;43m.\u001b[39;49m\u001b[43mzeros\u001b[49m\u001b[43m(\u001b[49m\u001b[43m(\u001b[49m\u001b[43moutput_count\u001b[49m\u001b[43m,\u001b[49m\u001b[43m \u001b[49m\u001b[43moutput_height\u001b[49m\u001b[43m,\u001b[49m\u001b[43m \u001b[49m\u001b[43moutput_width\u001b[49m\u001b[43m)\u001b[49m\u001b[43m,\u001b[49m\u001b[43m \u001b[49m\u001b[43mdtype\u001b[49m\u001b[38;5;241;43m=\u001b[39;49m\u001b[43mdt\u001b[49m\u001b[43m)\u001b[49m\n\u001b[0;32m    295\u001b[0m \u001b[38;5;28;01mif\u001b[39;00m nodata \u001b[38;5;129;01mis\u001b[39;00m \u001b[38;5;129;01mnot\u001b[39;00m \u001b[38;5;28;01mNone\u001b[39;00m:\n\u001b[0;32m    296\u001b[0m     nodataval \u001b[38;5;241m=\u001b[39m nodata\n",
      "\u001b[1;31mMemoryError\u001b[0m: Unable to allocate 751. GiB for an array with shape (1, 560000, 1440000) and data type int8"
     ]
    }
   ],
   "source": [
    "import os\n",
    "import rasterio\n",
    "from rasterio.merge import merge\n",
    "from tqdm import tqdm\n",
    "\n",
    "# 定义输出目录\n",
    "output_dir = 'G:/Hangkai/Global forest edge/2000Edge_classified/'\n",
    "output_dir_merge = 'G:/Hangkai/Global forest edge/'\n",
    "\n",
    "# 获取所有输出文件的路径列表\n",
    "all_files = [os.path.join(output_dir, f) for f in os.listdir(output_dir) if f.endswith('.tif')]\n",
    "\n",
    "# 直接使用merge工具合并所有图像\n",
    "# 注意：这里不再先读取所有数据，而是直接提供文件路径给merge函数\n",
    "mosaic, out_trans = merge(all_files, indexes=1, dtype='int8')\n",
    "\n",
    "# 更新metadata\n",
    "with rasterio.open(all_files[0]) as src0:\n",
    "    meta = src0.meta\n",
    "\n",
    "meta.update({\"driver\": \"GTiff\",\n",
    "             \"height\": mosaic.shape[1],\n",
    "             \"width\": mosaic.shape[2],\n",
    "             \"transform\": out_trans,\n",
    "             \"dtype\": 'int8',\n",
    "             \"nodata\": None\n",
    "            })\n",
    "\n",
    "# 保存拼接后的文件\n",
    "mosaic_output_path = os.path.join(output_dir_merge, 'Mosaic_Band_1.tif')\n",
    "with rasterio.open(mosaic_output_path, 'w', **meta) as dst:\n",
    "    dst.write(mosaic.astype(rasterio.int8), 1)"
   ]
  },
  {
   "cell_type": "code",
   "execution_count": null,
   "id": "fad72050",
   "metadata": {},
   "outputs": [
    {
     "name": "stderr",
     "output_type": "stream",
     "text": [
      " 49%|█████████████████████████████████████                                      | 129/261 [7:29:19<7:39:35, 208.91s/it]"
     ]
    }
   ],
   "source": [
    "import os\n",
    "import rasterio\n",
    "from netCDF4 import Dataset\n",
    "import numpy as np\n",
    "from tqdm import tqdm\n",
    "\n",
    "# 定义输出目录\n",
    "output_dir = 'G:/Hangkai/Global forest edge/2000Edge_classified/'\n",
    "output_dir_merge = 'G:/Hangkai/Global forest edge/'\n",
    "\n",
    "# 获取所有输出文件的路径列表\n",
    "all_files = [os.path.join(output_dir, f) for f in os.listdir(output_dir) if f.endswith('.tif')]\n",
    "\n",
    "# 使用第一个文件获取尺寸，以创建netCDF维度\n",
    "with rasterio.open(all_files[0]) as src:\n",
    "    height, width = src.shape\n",
    "\n",
    "# 创建一个新的netCDF文件并初始化所有值为0\n",
    "mosaic_output_path = os.path.join(output_dir_merge, 'Mosaic.nc')\n",
    "rootgrp = Dataset(mosaic_output_path, \"w\", format=\"NETCDF4\")\n",
    "\n",
    "rootgrp.createDimension(\"height\", height)\n",
    "rootgrp.createDimension(\"width\", width)\n",
    "\n",
    "# 创建变量并启用压缩\n",
    "var_1 = rootgrp.createVariable(\"Forest edge changing type\", 'i1', (\"height\", \"width\"), zlib=True)\n",
    "var_2 = rootgrp.createVariable(\"Forest edge difference\", 'f4', (\"height\", \"width\"), zlib=True)\n",
    "\n",
    "var_1[:] = np.zeros((height, width), dtype=np.int8)\n",
    "var_2[:] = np.zeros((height, width), dtype=np.float32)\n",
    "\n",
    "# 逐个读取TIFF文件并更新netCDF文件\n",
    "for file in tqdm(all_files):\n",
    "    with rasterio.open(file) as src:\n",
    "        data_1 = src.read(1).astype(np.int8)  # 读取第一个波段并调整数据类型\n",
    "        data_2 = src.read(2).astype(np.float32)  # 读取第二个波段并调整数据类型\n",
    "\n",
    "        var_1[:] += data_1\n",
    "        var_2[:] += data_2\n",
    "\n",
    "# 关闭netCDF文件\n",
    "rootgrp.close()"
   ]
  },
  {
   "cell_type": "code",
   "execution_count": null,
   "id": "3bb2d305",
   "metadata": {},
   "outputs": [],
   "source": [
    "import os\n",
    "import rasterio\n",
    "from netCDF4 import Dataset\n",
    "import numpy as np\n",
    "\n",
    "output_dir = '/mnt/cephfs/scratch/groups/chen_group/hangkai/2000Edge_classified/'\n",
    "output_dir_merge = '/mnt/cephfs/scratch/groups/chen_group/hangkai/'\n",
    "\n",
    "all_files = [os.path.join(output_dir, f) for f in os.listdir(output_dir) if f.endswith('.tif')]\n",
    "\n",
    "with rasterio.open(all_files[0]) as src:\n",
    "    height, width = src.shape\n",
    "\n",
    "mosaic_output_path = os.path.join(output_dir_merge, '01Class.nc')\n",
    "rootgrp = Dataset(mosaic_output_path, \"w\", format=\"NETCDF4\")\n",
    "\n",
    "rootgrp.createDimension(\"height\", height)\n",
    "rootgrp.createDimension(\"width\", width)\n",
    "\n",
    "var_1 = rootgrp.createVariable(\"Forest edge changing type\", 'i1', (\"height\", \"width\"), zlib=True)\n",
    "\n",
    "var_1[:] = np.zeros((height, width), dtype=np.int8)\n",
    "\n",
    "for file in all_files:\n",
    "    with rasterio.open(file) as src:\n",
    "        data_1 = src.read(1).astype(np.int8)\n",
    "\n",
    "        var_1[:] += data_1\n",
    "\n",
    "rootgrp.close()"
   ]
  },
  {
   "cell_type": "code",
   "execution_count": null,
   "id": "5c02772e",
   "metadata": {},
   "outputs": [],
   "source": [
    "import os\n",
    "import rasterio\n",
    "from rasterio.merge import merge\n",
    "from tqdm import tqdm\n",
    "\n",
    "# 定义输出目录\n",
    "output_dir = 'G:/Hangkai/Global forest edge/2000Edge_classified/'\n",
    "output_dir_merge = 'G:/Hangkai/Global forest edge/'\n",
    "\n",
    "# 获取所有输出文件的路径列表\n",
    "all_files = [os.path.join(output_dir, f) for f in os.listdir(output_dir) if f.endswith('.tif')]\n",
    "\n",
    "# 直接使用merge工具合并所有图像\n",
    "# 注意：这里不再先读取所有数据，而是直接提供文件路径给merge函数\n",
    "mosaic, out_trans = merge(all_files, indexes=1, dtype='int8')\n",
    "\n",
    "# 更新metadata\n",
    "with rasterio.open(all_files[0]) as src0:\n",
    "    meta = src0.meta\n",
    "\n",
    "meta.update({\"driver\": \"GTiff\",\n",
    "             \"height\": mosaic.shape[1],\n",
    "             \"width\": mosaic.shape[2],\n",
    "             \"transform\": out_trans,\n",
    "             \"dtype\": 'int8',\n",
    "             \"nodata\": None\n",
    "            })\n",
    "\n",
    "# 保存拼接后的文件\n",
    "mosaic_output_path = os.path.join(output_dir_merge, 'Mosaic_Band_1.tif')\n",
    "with rasterio.open(mosaic_output_path, 'w', **meta) as dst:\n",
    "    dst.write(mosaic.astype(rasterio.int8), 1)"
   ]
  },
  {
   "cell_type": "code",
   "execution_count": null,
   "id": "72b173e9",
   "metadata": {},
   "outputs": [
    {
     "name": "stdout",
     "output_type": "stream",
     "text": [
      "Band 1: Max Value = 77.5802993774414, Min Value = -213.55929565429688\n"
     ]
    }
   ],
   "source": [
    "import os\n",
    "import rasterio\n",
    "import numpy as np\n",
    "output_dir_class = 'G:/Hangkai/Global forest edge/2000Edge_classified_01_class/'\n",
    "output_dir_diff = 'G:/Hangkai/Global forest edge/2000Edge_classified_01_diff/'\n",
    "\n",
    "output_dir = output_dir_diff\n",
    "\n",
    "# 初始化变量来保存最大和最小值\n",
    "max_value_band1 = float('-inf')\n",
    "min_value_band1 = float('inf')\n",
    "\n",
    "# 遍历所有文件\n",
    "for file_name in os.listdir(output_dir):\n",
    "    with rasterio.open(os.path.join(output_dir, file_name)) as src:\n",
    "        # 读取band1和band2\n",
    "        band1 = src.read(1)\n",
    "\n",
    "        # 更新最大和最小值\n",
    "        max_value_band1 = max(max_value_band1, band1.max())\n",
    "        min_value_band1 = min(min_value_band1, band1.min())\n",
    "\n",
    "\n",
    "        print(f\"Band 1: Max Value = {max_value_band1}, Min Value = {min_value_band1}\")\n"
   ]
  }
 ],
 "metadata": {
  "kernelspec": {
   "display_name": "Python 3 (ipykernel)",
   "language": "python",
   "name": "python3"
  },
  "language_info": {
   "codemirror_mode": {
    "name": "ipython",
    "version": 3
   },
   "file_extension": ".py",
   "mimetype": "text/x-python",
   "name": "python",
   "nbconvert_exporter": "python",
   "pygments_lexer": "ipython3",
   "version": "3.9.16"
  }
 },
 "nbformat": 4,
 "nbformat_minor": 5
}
