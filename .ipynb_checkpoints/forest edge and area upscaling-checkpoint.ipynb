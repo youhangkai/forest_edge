{
 "cells": [
  {
   "cell_type": "code",
   "execution_count": null,
   "id": "697f9204",
   "metadata": {},
   "outputs": [
    {
     "name": "stdout",
     "output_type": "stream",
     "text": [
      "Processing 30N_110E.tif...\n",
      "Processing 30N_110W.tif...\n",
      "Processing 30N_120E.tif...\n",
      "Processing 30N_120W.tif...\n",
      "Processing 30N_130E.tif...\n",
      "Processing 30N_160W.tif...\n",
      "Processing 30N_170W.tif...\n",
      "Processing 30S_010E.tif...\n",
      "Processing 30S_020E.tif...\n",
      "Processing 30S_030E.tif...\n"
     ]
    }
   ],
   "source": [
    "import os\n",
    "import rasterio\n",
    "import numpy as np\n",
    "from skimage import measure\n",
    "\n",
    "def calculate_forest_area_and_boundary_length(tif_path, output_path, block_size=512):\n",
    "    with rasterio.open(tif_path) as src:\n",
    "        forest_area = np.zeros((10, 10))\n",
    "        boundary_length = np.zeros((10, 10))\n",
    "\n",
    "        for ji, window in src.block_windows(1):\n",
    "            block = src.read(1, window=window)\n",
    "            \n",
    "            block_window = src.window_transform(window)\n",
    "            row_start, col_start = int(window.row_off // (src.height / 10)), int(window.col_off // (src.width / 10))\n",
    "\n",
    "            for i in range(block.shape[0]):\n",
    "                for j in range(block.shape[1]):\n",
    "                    row, col = row_start + i // block_size, col_start + j // block_size\n",
    "                    if block[i, j] == 1:\n",
    "                        forest_area[row, col] += 1\n",
    "                        if i > 0 and block[i - 1, j] != 1:\n",
    "                            boundary_length[row, col] += 1\n",
    "                        if j > 0 and block[i, j - 1] != 1:\n",
    "                            boundary_length[row, col] += 1\n",
    "\n",
    "        # Convert pixel counts to actual area\n",
    "        forest_area *= src.res[0] * src.res[1]\n",
    "\n",
    "        # Save results to file\n",
    "        np.savetxt(os.path.join(output_path, f'{os.path.splitext(os.path.basename(tif_path))[0]}_area.txt'), forest_area)\n",
    "        np.savetxt(os.path.join(output_path, f'{os.path.splitext(os.path.basename(tif_path))[0]}_boundary.txt'), boundary_length)\n",
    "\n",
    "folder_2000 = 'H:/Global_tree_cover/2000extent'\n",
    "folder_2020 = 'H:/Global_tree_cover/2020extent'\n",
    "output_folder = 'H:/Global_tree_cover/output'\n",
    "\n",
    "file_list = os.listdir(folder_2000)\n",
    "\n",
    "for file in file_list:\n",
    "    print(f'Processing {file}...')\n",
    "    \n",
    "    path_2000 = os.path.join(folder_2000, file)\n",
    "    path_2020 = os.path.join(folder_2020, file)\n",
    "    \n",
    "    calculate_forest_area_and_boundary_length(path_2000, output_folder)\n",
    "    calculate_forest_area_and_boundary_length(path_2020, output_folder)\n",
    "\n",
    "print('Results saved to:', output_folder)"
   ]
  },
  {
   "cell_type": "code",
   "execution_count": null,
   "id": "47c5db2f",
   "metadata": {},
   "outputs": [],
   "source": []
  },
  {
   "cell_type": "code",
   "execution_count": null,
   "id": "e8a83a31",
   "metadata": {},
   "outputs": [],
   "source": []
  }
 ],
 "metadata": {
  "kernelspec": {
   "display_name": "Python 3",
   "language": "python",
   "name": "python3"
  },
  "language_info": {
   "codemirror_mode": {
    "name": "ipython",
    "version": 3
   },
   "file_extension": ".py",
   "mimetype": "text/x-python",
   "name": "python",
   "nbconvert_exporter": "python",
   "pygments_lexer": "ipython3",
   "version": "3.6.13"
  }
 },
 "nbformat": 4,
 "nbformat_minor": 5
}
