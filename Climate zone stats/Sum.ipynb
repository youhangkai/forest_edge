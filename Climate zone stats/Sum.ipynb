{
 "cells": [
  {
   "cell_type": "code",
   "execution_count": 16,
   "id": "60086007",
   "metadata": {},
   "outputs": [
    {
     "name": "stdout",
     "output_type": "stream",
     "text": [
      "Opened dd_Edge_Boreal.tif\n",
      "Opened dd_Edge_Cool_Temperate.tif\n",
      "Opened dd_Edge_Polar.tif\n",
      "Opened dd_Edge_Sub_Tropica.tif\n",
      "Opened dd_Edge_Tropica.tif\n",
      "Opened dd_Edge_Warm_Temperate.tif\n",
      "Stats done!\n",
      "                    File Name        NanSum\n",
      "0          dd_Edge_Boreal.tif  7.178745e+06\n",
      "1  dd_Edge_Cool_Temperate.tif  4.285748e+06\n",
      "2           dd_Edge_Polar.tif  1.099941e+05\n",
      "3     dd_Edge_Sub_Tropica.tif  1.129373e+07\n",
      "4         dd_Edge_Tropica.tif  1.442237e+07\n",
      "5  dd_Edge_Warm_Temperate.tif  3.715045e+06\n"
     ]
    }
   ],
   "source": [
    "import os\n",
    "import pandas as pd\n",
    "import numpy as np\n",
    "import rasterio\n",
    "\n",
    "folder_path = 'G:\\\\Hangkai\\\\USGSEsriTNCWorldTerrestrialEcosystems2020\\\\WorldTempEdgedd'\n",
    "tif_files = [f for f in os.listdir(folder_path) if f.endswith('.tif')]\n",
    "\n",
    "nansum_values = [] \n",
    "\n",
    "for tif_file in tif_files:\n",
    "    file_path = os.path.join(folder_path, tif_file)\n",
    "    try:\n",
    "        with rasterio.open(file_path) as dataset:\n",
    "            data = dataset.read(1)\n",
    "        data = data[data>=0]\n",
    "        nansum_value = np.nansum(data)\n",
    "        nansum_values.append(nansum_value) \n",
    "        print(f'Opened {tif_file}')\n",
    "    except Exception as e:\n",
    "        print(f'Failed to open {tif_file}: {e}')\n",
    "\n",
    "df = pd.DataFrame({'File Name': tif_files, 'NanSum': nansum_values})\n",
    "df.to_csv(os.path.join(folder_path, 'Stats.csv'), index=False)\n",
    "print(f'Stats done!')\n",
    "print(df)"
   ]
  },
  {
   "cell_type": "code",
   "execution_count": 7,
   "id": "dcc777f5",
   "metadata": {},
   "outputs": [
    {
     "data": {
      "text/plain": [
       "4.22397"
      ]
     },
     "execution_count": 7,
     "metadata": {},
     "output_type": "execute_result"
    }
   ],
   "source": []
  }
 ],
 "metadata": {
  "kernelspec": {
   "display_name": "Python 3 (ipykernel)",
   "language": "python",
   "name": "python3"
  },
  "language_info": {
   "codemirror_mode": {
    "name": "ipython",
    "version": 3
   },
   "file_extension": ".py",
   "mimetype": "text/x-python",
   "name": "python",
   "nbconvert_exporter": "python",
   "pygments_lexer": "ipython3",
   "version": "3.9.16"
  }
 },
 "nbformat": 4,
 "nbformat_minor": 5
}
