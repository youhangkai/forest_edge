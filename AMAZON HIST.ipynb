{
 "cells": [
  {
   "cell_type": "code",
   "execution_count": 1,
   "id": "3f6b6a2e",
   "metadata": {},
   "outputs": [
    {
     "name": "stderr",
     "output_type": "stream",
     "text": [
      "C:\\Users\\hyou34\\AppData\\Local\\miniconda3\\envs\\py39\\lib\\site-packages\\numpy\\_distributor_init.py:30: UserWarning: loaded more than 1 DLL from .libs:\n",
      "C:\\Users\\hyou34\\AppData\\Local\\miniconda3\\envs\\py39\\lib\\site-packages\\numpy\\.libs\\libopenblas.FB5AE2TYXYH2IJRDKGDGQ3XBKLKTF43H.gfortran-win_amd64.dll\n",
      "C:\\Users\\hyou34\\AppData\\Local\\miniconda3\\envs\\py39\\lib\\site-packages\\numpy\\.libs\\libopenblas64__v0.3.21-gcc_10_3_0.dll\n",
      "  warnings.warn(\"loaded more than 1 DLL from .libs:\"\n"
     ]
    },
    {
     "name": "stdout",
     "output_type": "stream",
     "text": [
      "2000 Data processed!\n"
     ]
    }
   ],
   "source": [
    "import rasterio\n",
    "from rasterio.plot import show_hist\n",
    "import matplotlib.pyplot as plt\n",
    "\n",
    "# 打开.tif文件\n",
    "file_path = r'G:\\Hangkai\\Global forest edge\\2000Edge\\00N_060W.tif'\n",
    "\n",
    "# 读取.tif文件中的数据\n",
    "with rasterio.open(file_path) as src:\n",
    "    data2000 = src.read(1)\n",
    "    data2000 = data2000[data2000 != 0]\n",
    "print(\"2000 Data processed!\")"
   ]
  },
  {
   "cell_type": "code",
   "execution_count": 2,
   "id": "9f371acd",
   "metadata": {},
   "outputs": [
    {
     "name": "stdout",
     "output_type": "stream",
     "text": [
      "2020 Data processed!\n"
     ]
    }
   ],
   "source": [
    "import rasterio\n",
    "from rasterio.plot import show_hist\n",
    "import matplotlib.pyplot as plt\n",
    "\n",
    "# 打开.tif文件\n",
    "file_path = r'G:\\Hangkai\\Global forest edge\\2020Edge\\00N_060W.tif'\n",
    "\n",
    "# 读取.tif文件中的数据\n",
    "with rasterio.open(file_path) as src:\n",
    "    data2020 = src.read(1)\n",
    "    data2020 = data2020[data2020 != 0]\n",
    "print(\"2020 Data processed!\")"
   ]
  },
  {
   "cell_type": "code",
   "execution_count": 8,
   "id": "ede27a64",
   "metadata": {},
   "outputs": [
    {
     "name": "stdout",
     "output_type": "stream",
     "text": [
      "[16997482  9244465  2280380   638518]\n",
      "[20354559 11683650  2467167   626438]\n"
     ]
    }
   ],
   "source": [
    "import numpy as np\n",
    "# 定义区间\n",
    "bins = [1, 300, 600, 900, 1200]\n",
    "\n",
    "# 统计直方图\n",
    "histogram2000, bin_edges = np.histogram(data2000, bins=bins)\n",
    "print(histogram2000)\n",
    "\n",
    "histogram2020, bin_edges = np.histogram(data2020, bins=bins)\n",
    "print(histogram2020)"
   ]
  },
  {
   "cell_type": "code",
   "execution_count": 11,
   "id": "f915f555",
   "metadata": {},
   "outputs": [
    {
     "name": "stdout",
     "output_type": "stream",
     "text": [
      "2000年森林边缘总面积： 18225528125 平方米\n",
      "2020年森林边缘总面积： 21957383750 平方米\n",
      "20年间森林边缘面积变化： 3731855625 平方米\n",
      "2000年森林边缘总长度： 1122040600 米\n",
      "2020年森林边缘总长度： 1340727800 米\n",
      "森林边缘长度变化百分比： 19.490132531746177 %\n",
      "森林边缘面积变化百分比： 20.475980720037434 %\n"
     ]
    }
   ],
   "source": [
    "# 每个像素的边长（单位：米）\n",
    "pixel_length = 25\n",
    "\n",
    "# 计算每个像素的面积（单位：平方米）\n",
    "pixel_area = pixel_length ** 2\n",
    "\n",
    "# 每个区间的像素数量\n",
    "pixel_counts_2000 = [16997482, 9244465, 2280380, 638518]\n",
    "pixel_counts_2020 = [20354559, 11683650, 2467167, 626438]\n",
    "Diff = (pixel_counts_2000-pixel_counts_2020)/pixel_counts_2000\n",
    "\n",
    "# 计算每个区间的总面积（单位：平方米）\n",
    "total_area_2000 = sum(pixel_counts_2000) * pixel_area\n",
    "total_area_2020 = sum(pixel_counts_2020) * pixel_area\n",
    "\n",
    "# 计算面积的变化\n",
    "area_change = total_area_2020 - total_area_2000\n",
    "\n",
    "# 打印结果\n",
    "print(\"2000年森林边缘总面积：\", total_area_2000, \"平方米\")\n",
    "print(\"2020年森林边缘总面积：\", total_area_2020, \"平方米\")\n",
    "print(\"20年间森林边缘面积变化：\", area_change, \"平方米\")\n",
    "\n",
    "\n",
    "# 边长区间（单位：米）\n",
    "edge_lengths = [25, 50, 75, 100]\n",
    "\n",
    "# 计算每个区间的总长度（单位：米）\n",
    "total_lengths_2000 = sum(data2000)\n",
    "total_lengths_2020 = sum(data2020)\n",
    "\n",
    "# 打印结果\n",
    "print(\"2000年森林边缘总长度：\", total_lengths_2000, \"米\")\n",
    "print(\"2020年森林边缘总长度：\", total_lengths_2020, \"米\")\n"
   ]
  },
  {
   "cell_type": "code",
   "execution_count": 16,
   "id": "07fceaf0",
   "metadata": {},
   "outputs": [
    {
     "name": "stdout",
     "output_type": "stream",
     "text": [
      "像素数量的相对差异： [19.75043715 26.38535599  8.19104711 -1.89188089]\n"
     ]
    }
   ],
   "source": [
    "import numpy as np\n",
    "\n",
    "# 计算像素数量的相对差异\n",
    "diff = 100*(np.array(pixel_counts_2020) - np.array(pixel_counts_2000)) / np.array(pixel_counts_2000)\n",
    "\n",
    "# 打印结果\n",
    "print(\"像素数量的相对差异：\", diff)\n"
   ]
  },
  {
   "cell_type": "code",
   "execution_count": 12,
   "id": "49fc68aa",
   "metadata": {},
   "outputs": [
    {
     "name": "stdout",
     "output_type": "stream",
     "text": [
      "2000 Data processed!\n",
      "2020 Data processed!\n"
     ]
    }
   ],
   "source": [
    "import rasterio\n",
    "from rasterio.plot import show_hist\n",
    "import matplotlib.pyplot as plt\n",
    "\n",
    "# 打开.tif文件\n",
    "file_path = r'G:\\Hangkai\\Global forest edge\\2000Edge\\00N_050W.tif'\n",
    "\n",
    "# 读取.tif文件中的数据\n",
    "with rasterio.open(file_path) as src:\n",
    "    data2000_00N_050W = src.read(1)\n",
    "    data2000_00N_050W = data2000_00N_050W[data2000_00N_050W != 0]\n",
    "print(\"2000 Data processed!\")\n",
    "# 打开.tif文件\n",
    "file_path = r'G:\\Hangkai\\Global forest edge\\2020Edge\\00N_050W.tif'\n",
    "\n",
    "# 读取.tif文件中的数据\n",
    "with rasterio.open(file_path) as src:\n",
    "    data2020_00N_050W = src.read(1)\n",
    "    data2020_00N_050W = data2020_00N_050W[data2020_00N_050W != 0]\n",
    "print(\"2020 Data processed!\")"
   ]
  },
  {
   "cell_type": "code",
   "execution_count": 13,
   "id": "62c712d7",
   "metadata": {},
   "outputs": [
    {
     "name": "stdout",
     "output_type": "stream",
     "text": [
      "[57208288 35160889 11700784  3771820]\n",
      "[48961256 30829207  9033571  2679809]\n"
     ]
    }
   ],
   "source": [
    "import numpy as np\n",
    "# 定义区间\n",
    "bins = [1, 300, 600, 900, 1200]\n",
    "\n",
    "# 统计直方图\n",
    "histogram2000_00N_050W, bin_edges = np.histogram(data2000_00N_050W, bins=bins)\n",
    "print(histogram2000_00N_050W)\n",
    "\n",
    "histogram2020_00N_050W, bin_edges = np.histogram(data2020_00N_050W, bins=bins)\n",
    "print(histogram2020_00N_050W)"
   ]
  },
  {
   "cell_type": "code",
   "execution_count": 18,
   "id": "993ebc99",
   "metadata": {},
   "outputs": [
    {
     "data": {
      "text/plain": [
       "array([-14.41579933, -12.31960318, -22.79516484, -28.95183227])"
      ]
     },
     "execution_count": 18,
     "metadata": {},
     "output_type": "execute_result"
    }
   ],
   "source": [
    "diff = 100*(np.array(histogram2020_00N_050W) - np.array(histogram2000_00N_050W)) / np.array(histogram2000_00N_050W)\n",
    "diff"
   ]
  },
  {
   "cell_type": "code",
   "execution_count": 22,
   "id": "ce158864",
   "metadata": {
    "scrolled": true
   },
   "outputs": [
    {
     "name": "stdout",
     "output_type": "stream",
     "text": [
      "Total_edge_2020 201307.5374\n",
      "Total_edge_2000 388170.4463\n"
     ]
    }
   ],
   "source": [
    "Total_edge_2020 = np.sum(data2020)*0.1*0.001\n",
    "Total_edge_2000 = np.sum(data2000)*0.1*0.001\n",
    "\n",
    "print(\"Total_edge_2020\", Total_edge_2020)\n",
    "print(\"Total_edge_2000\", Total_edge_2000)"
   ]
  },
  {
   "cell_type": "code",
   "execution_count": 30,
   "id": "ee90ff24",
   "metadata": {},
   "outputs": [
    {
     "name": "stdout",
     "output_type": "stream",
     "text": [
      "di Data processed!\n",
      "dd Data processed!\n",
      "ii Data processed!\n",
      "id Data processed!\n",
      "stable Data processed!\n"
     ]
    }
   ],
   "source": [
    "# 打开.tif文件\n",
    "file_path = r'G:\\Hangkai\\Global forest edge\\new_001_di\\00N_050W.tif'\n",
    "\n",
    "# 读取.tif文件中的数据\n",
    "with rasterio.open(file_path) as src:\n",
    "    di_data = src.read(1)\n",
    "    di_data = di_data[di_data != 0]\n",
    "print(\"di Data processed!\")\n",
    "\n",
    "# 打开.tif文件\n",
    "file_path = r'G:\\Hangkai\\Global forest edge\\new_001_dd\\00N_050W.tif'\n",
    "\n",
    "# 读取.tif文件中的数据\n",
    "with rasterio.open(file_path) as src:\n",
    "    dd_data = src.read(1)\n",
    "    dd_data = dd_data[dd_data != 0]\n",
    "print(\"dd Data processed!\")\n",
    "\n",
    "# 打开.tif文件\n",
    "file_path = r'G:\\Hangkai\\Global forest edge\\new_001_ii\\00N_050W.tif'\n",
    "\n",
    "# 读取.tif文件中的数据\n",
    "with rasterio.open(file_path) as src:\n",
    "    ii_data = src.read(1)\n",
    "    ii_data = ii_data[ii_data != 0]\n",
    "print(\"ii Data processed!\")\n",
    "\n",
    "# 打开.tif文件\n",
    "file_path = r'G:\\Hangkai\\Global forest edge\\new_001_id\\00N_050W.tif'\n",
    "\n",
    "# 读取.tif文件中的数据\n",
    "with rasterio.open(file_path) as src:\n",
    "    id_data = src.read(1)\n",
    "    id_data = id_data[id_data != 0]\n",
    "print(\"id Data processed!\")\n",
    "\n",
    "# 打开.tif文件\n",
    "file_path = r'G:\\Hangkai\\Global forest edge\\new_001_stable\\00N_050W.tif'\n",
    "\n",
    "# 读取.tif文件中的数据\n",
    "with rasterio.open(file_path) as src:\n",
    "    stable_data = src.read(1)\n",
    "    stable_data = stable_data[stable_data != 0]\n",
    "print(\"stable Data processed!\")"
   ]
  },
  {
   "cell_type": "code",
   "execution_count": 31,
   "id": "2203743c",
   "metadata": {},
   "outputs": [
    {
     "name": "stdout",
     "output_type": "stream",
     "text": [
      "Total_edge_2020 201307.5374\n",
      "Total_edge_2000 388170.4463\n",
      "ID_edge 570527.7\n",
      "II_edge 155319.05\n",
      "DD_edge 1179776.6\n",
      "DI_edge 358719.78\n",
      "Stable_edge 3394000.8\n"
     ]
    }
   ],
   "source": [
    "ID_edge = np.nansum(id_data)\n",
    "II_edge = np.nansum(ii_data)\n",
    "DD_edge = np.nansum(dd_data)\n",
    "DI_edge = np.nansum(di_data)\n",
    "Stable_edge = np.nansum(stable_data)\n",
    "\n",
    "print(\"Total_edge_2020\", Total_edge_2020)\n",
    "print(\"Total_edge_2000\", Total_edge_2000)\n",
    "print(\"ID_edge\", ID_edge)\n",
    "print(\"II_edge\", II_edge)\n",
    "print(\"DD_edge\", DD_edge)\n",
    "print(\"DI_edge\", DI_edge)\n",
    "print(\"Stable_edge\", Stable_edge)"
   ]
  },
  {
   "cell_type": "code",
   "execution_count": 32,
   "id": "72f5ce83",
   "metadata": {},
   "outputs": [
    {
     "name": "stdout",
     "output_type": "stream",
     "text": [
      "DATA2017 processed!\n"
     ]
    }
   ],
   "source": [
    "# 打开.tif文件\n",
    "file_path = r'G:\\Hangkai\\CONUS Forest Edge Mapping\\Forest_Depth_Classification\\2017LC.tif'\n",
    "\n",
    "# 读取.tif文件中的数据\n",
    "with rasterio.open(file_path) as src:\n",
    "    DATA2017 = src.read(1)\n",
    "    DATA2017 = DATA2017[DATA2017 != 0]\n",
    "print(\"DATA2017 processed!\")"
   ]
  },
  {
   "cell_type": "code",
   "execution_count": null,
   "id": "49592fb6",
   "metadata": {},
   "outputs": [],
   "source": []
  },
  {
   "cell_type": "code",
   "execution_count": null,
   "id": "712e48aa",
   "metadata": {},
   "outputs": [],
   "source": []
  }
 ],
 "metadata": {
  "kernelspec": {
   "display_name": "Python 3 (ipykernel)",
   "language": "python",
   "name": "python3"
  },
  "language_info": {
   "codemirror_mode": {
    "name": "ipython",
    "version": 3
   },
   "file_extension": ".py",
   "mimetype": "text/x-python",
   "name": "python",
   "nbconvert_exporter": "python",
   "pygments_lexer": "ipython3",
   "version": "3.9.16"
  }
 },
 "nbformat": 4,
 "nbformat_minor": 5
}
